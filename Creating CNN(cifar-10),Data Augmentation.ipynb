{
  "nbformat": 4,
  "nbformat_minor": 0,
  "metadata": {
    "colab": {
      "provenance": [],
      "collapsed_sections": [],
      "authorship_tag": "ABX9TyO0ORxL0SJX7cEhRjis6dE6",
      "include_colab_link": true
    },
    "kernelspec": {
      "name": "python3",
      "display_name": "Python 3"
    },
    "language_info": {
      "name": "python"
    }
  },
  "cells": [
    {
      "cell_type": "markdown",
      "metadata": {
        "id": "view-in-github",
        "colab_type": "text"
      },
      "source": [
        "<a href=\"https://colab.research.google.com/github/Muhammad-Awais-Awan/TensorFLow-MachineLearning/blob/main/Creating%20CNN(cifar-10)%2CData%20Augmentation.ipynb\" target=\"_parent\"><img src=\"https://colab.research.google.com/assets/colab-badge.svg\" alt=\"Open In Colab\"/></a>"
      ]
    },
    {
      "cell_type": "code",
      "execution_count": null,
      "metadata": {
        "id": "8lU8Lgsucq8X"
      },
      "outputs": [],
      "source": []
    },
    {
      "cell_type": "markdown",
      "source": [
        "#Dataset\n",
        "The CIFAR-10 dataset (Canadian Institute for Advanced Research, 10 classes) is a subset of the Tiny Images dataset and consists of 60000 32x32 color images.\n",
        "The images are labelled with one of 10 mutually exclusive classes:\n",
        " * airplane\n",
        " * automobile\n",
        " * bird\n",
        " * cat\n",
        " * deer\n",
        " * dog\n",
        " * frog\n",
        " * horse\n",
        " * ship\n",
        " * truck \n",
        " \n",
        " There are 6000 images per class with 5000 training and 1000 testing images per class."
      ],
      "metadata": {
        "id": "-Pbl-uWweOkO"
      }
    },
    {
      "cell_type": "code",
      "source": [
        "import tensorflow as tf\n",
        "from tensorflow.keras import datasets, layers, models\n",
        "import matplotlib.pyplot as plt\n"
      ],
      "metadata": {
        "id": "UxchXdxAe870"
      },
      "execution_count": 2,
      "outputs": []
    },
    {
      "cell_type": "code",
      "source": [
        "#LOAD AND SPLIT DATASET\n",
        "(train_images, train_labels), (test_images, test_labels)= datasets.cifar10.load_data()\n",
        "#Normalize pixel values to the between 0 and 1\n",
        "train_images,test_images=train_images/255.0, test_images/255.0\n",
        "class_names=[\"airplane\",\"automobile\",\"bird\",\"cat\",\"deer\",\"dog\",\"frog\",\"horse\",\"ship\",\"truck\"]\n"
      ],
      "metadata": {
        "colab": {
          "base_uri": "https://localhost:8080/"
        },
        "id": "OMw1EGq7fRjH",
        "outputId": "1d0542e2-aaa6-42d0-c4b8-e367f2ae1850"
      },
      "execution_count": 3,
      "outputs": [
        {
          "output_type": "stream",
          "name": "stdout",
          "text": [
            "Downloading data from https://www.cs.toronto.edu/~kriz/cifar-10-python.tar.gz\n",
            "170498071/170498071 [==============================] - 8s 0us/step\n"
          ]
        }
      ]
    },
    {
      "cell_type": "code",
      "source": [
        "# let's look at a one image\n",
        "IMG_INDEX=107 #change this to look at other images\n",
        "plt.imshow(train_images[IMG_INDEX],cmap=plt.cm.binary)\n",
        "plt.xlabel(class_names[train_labels[IMG_INDEX][0]])\n",
        "plt.show()"
      ],
      "metadata": {
        "colab": {
          "base_uri": "https://localhost:8080/",
          "height": 280
        },
        "id": "vvdMwmu5lzou",
        "outputId": "337d5f3d-e8c5-4f08-be0c-260fca47a23a"
      },
      "execution_count": 5,
      "outputs": [
        {
          "output_type": "display_data",
          "data": {
            "text/plain": [
              "<Figure size 432x288 with 1 Axes>"
            ],
            "image/png": "[encoded data removed]"
          },
          "metadata": {
            "needs_background": "light"
          }
        }
      ]
    },
    {
      "cell_type": "markdown",
      "source": [
        "#CNN Architecture\n",
        "A common architecture for a CNN is a stack of Conv2D and MaxPooling2D layers followed by a few densely connected layers. To idea is that the stack of convolutional and maxPooling layers extract the features from the image. Then these features are flattened and fed to densly connected layers that determine the class of an image based on the presence of feature.\n",
        "We will start by building the Convolutional Base."
      ],
      "metadata": {
        "id": "QF80dW-cmiCM"
      }
    },
    {
      "cell_type": "markdown",
      "source": [
        "**CONVOLUTIONAL BASE**"
      ],
      "metadata": {
        "id": "CkvfGNLBrnaQ"
      }
    },
    {
      "cell_type": "code",
      "source": [
        "model=models.Sequential()\n",
        "model.add(layers.Conv2D(32,(3,3),activation='relu',input_shape=(32,32,3)))\n",
        "model.add(layers.MaxPooling2D(2,2))\n",
        "model.add(layers.Conv2D(64,(3,3),activation='relu'))\n",
        "model.add(layers.MaxPooling2D(2,2))\n",
        "model.add(layers.Conv2D(64,(3,3), activation=\"relu\"))"
      ],
      "metadata": {
        "id": "rXcsMYOwmep4"
      },
      "execution_count": 6,
      "outputs": []
    },
    {
      "cell_type": "markdown",
      "source": [
        "**Layer 1**\n",
        "\n",
        "The input shape of our data will be 32,32,3 and we will process 32 filters of size 3x3 over our input data. We will also apply the activation function relu to the output off each convolution operation.\n",
        "\n",
        "**Layer 2**\n",
        "This layer will perform the max pooling operation using 2x2 samples and a stride of 2.\n",
        "\n",
        "**Other Layers**\n",
        "The next set of layers do very similar things but take as input the feature map from the previous layer. They also increase the frequency of filters from 32 to 64. We can do this as our data shrinks in special dimensions as it passed through the layers, meaning we can afford (computationally) to add more depth"
      ],
      "metadata": {
        "id": "a4ol1Fvgonqi"
      }
    },
    {
      "cell_type": "code",
      "source": [
        "model.summary()"
      ],
      "metadata": {
        "colab": {
          "base_uri": "https://localhost:8080/"
        },
        "id": "Dot3KTkdo-zn",
        "outputId": "7b7e0b14-3b10-4b27-d77b-040ba7a36c92"
      },
      "execution_count": 7,
      "outputs": [
        {
          "output_type": "stream",
          "name": "stdout",
          "text": [
            "Model: \"sequential\"\n",
            "_________________________________________________________________\n",
            " Layer (type)                Output Shape              Param #   \n",
            "=================================================================\n",
            " conv2d (Conv2D)             (None, 30, 30, 32)        896       \n",
            "                                                                 \n",
            " max_pooling2d (MaxPooling2D  (None, 15, 15, 32)       0         \n",
            " )                                                               \n",
            "                                                                 \n",
            " conv2d_1 (Conv2D)           (None, 13, 13, 64)        18496     \n",
            "                                                                 \n",
            " max_pooling2d_1 (MaxPooling  (None, 6, 6, 64)         0         \n",
            " 2D)                                                             \n",
            "                                                                 \n",
            " conv2d_2 (Conv2D)           (None, 4, 4, 64)          36928     \n",
            "                                                                 \n",
            "=================================================================\n",
            "Total params: 56,320\n",
            "Trainable params: 56,320\n",
            "Non-trainable params: 0\n",
            "_________________________________________________________________\n"
          ]
        }
      ]
    },
    {
      "cell_type": "markdown",
      "source": [
        "#Adding Dense Layers\n",
        "so far we just completed the **convolutional base**.\n",
        "Now we are creating ***CLASSIFIER LAYER***"
      ],
      "metadata": {
        "id": "1VnoXvguq0uN"
      }
    },
    {
      "cell_type": "code",
      "source": [
        "model.add(layers.Flatten())\n",
        "model.add(layers.Dense(64,activation=\"relu\"))\n",
        "model.add(layers.Dense(10))\n"
      ],
      "metadata": {
        "id": "3pCZFYRLq0KW"
      },
      "execution_count": 8,
      "outputs": []
    },
    {
      "cell_type": "code",
      "source": [
        "model.summary()"
      ],
      "metadata": {
        "colab": {
          "base_uri": "https://localhost:8080/"
        },
        "id": "hz4k8riArRUs",
        "outputId": "b0f91d17-0322-4fbd-96d5-40f9f3444b20"
      },
      "execution_count": 9,
      "outputs": [
        {
          "output_type": "stream",
          "name": "stdout",
          "text": [
            "Model: \"sequential\"\n",
            "_________________________________________________________________\n",
            " Layer (type)                Output Shape              Param #   \n",
            "=================================================================\n",
            " conv2d (Conv2D)             (None, 30, 30, 32)        896       \n",
            "                                                                 \n",
            " max_pooling2d (MaxPooling2D  (None, 15, 15, 32)       0         \n",
            " )                                                               \n",
            "                                                                 \n",
            " conv2d_1 (Conv2D)           (None, 13, 13, 64)        18496     \n",
            "                                                                 \n",
            " max_pooling2d_1 (MaxPooling  (None, 6, 6, 64)         0         \n",
            " 2D)                                                             \n",
            "                                                                 \n",
            " conv2d_2 (Conv2D)           (None, 4, 4, 64)          36928     \n",
            "                                                                 \n",
            " flatten (Flatten)           (None, 1024)              0         \n",
            "                                                                 \n",
            " dense (Dense)               (None, 64)                65600     \n",
            "                                                                 \n",
            " dense_1 (Dense)             (None, 10)                650       \n",
            "                                                                 \n",
            "=================================================================\n",
            "Total params: 122,570\n",
            "Trainable params: 122,570\n",
            "Non-trainable params: 0\n",
            "_________________________________________________________________\n"
          ]
        }
      ]
    },
    {
      "cell_type": "markdown",
      "source": [
        "#Training"
      ],
      "metadata": {
        "id": "DqDa3NuKr-Ug"
      }
    },
    {
      "cell_type": "code",
      "source": [
        "model.compile(optimizer='adam',\n",
        "              loss=tf.keras.losses.SparseCategoricalCrossentropy(from_logits=True),\n",
        "              metrics=['accuracy']\n",
        "              )\n",
        "history = model.fit(train_images, train_labels, epochs=5,\n",
        "                    validation_data=(test_images, test_labels))\n"
      ],
      "metadata": {
        "colab": {
          "base_uri": "https://localhost:8080/"
        },
        "id": "Hs_cumtssLKf",
        "outputId": "c4666236-1652-42e8-fef9-1ea72d11520c"
      },
      "execution_count": 10,
      "outputs": [
        {
          "output_type": "stream",
          "name": "stdout",
          "text": [
            "Epoch 1/5\n",
            "1563/1563 [==============================] - 87s 55ms/step - loss: 1.5268 - accuracy: 0.4441 - val_loss: 1.2708 - val_accuracy: 0.5466\n",
            "Epoch 2/5\n",
            "1563/1563 [==============================] - 83s 53ms/step - loss: 1.1648 - accuracy: 0.5866 - val_loss: 1.1093 - val_accuracy: 0.6094\n",
            "Epoch 3/5\n",
            "1563/1563 [==============================] - 81s 52ms/step - loss: 1.0169 - accuracy: 0.6427 - val_loss: 1.0337 - val_accuracy: 0.6449\n",
            "Epoch 4/5\n",
            "1563/1563 [==============================] - 80s 51ms/step - loss: 0.9172 - accuracy: 0.6784 - val_loss: 0.9540 - val_accuracy: 0.6697\n",
            "Epoch 5/5\n",
            "1563/1563 [==============================] - 81s 52ms/step - loss: 0.8428 - accuracy: 0.7051 - val_loss: 0.8860 - val_accuracy: 0.6951\n"
          ]
        }
      ]
    },
    {
      "cell_type": "markdown",
      "source": [
        "#Evaluating the Model"
      ],
      "metadata": {
        "id": "qG_mEB1kwC5x"
      }
    },
    {
      "cell_type": "code",
      "source": [
        "test_loss,test_acc=model.evaluate(test_images, test_labels,verbose=2)\n",
        "print(test_acc)"
      ],
      "metadata": {
        "colab": {
          "base_uri": "https://localhost:8080/"
        },
        "id": "xklKEv-awCRw",
        "outputId": "13aea0c6-2d26-4d61-eb7c-dc1ff88a94bd"
      },
      "execution_count": 11,
      "outputs": [
        {
          "output_type": "stream",
          "name": "stdout",
          "text": [
            "313/313 - 6s - loss: 0.8860 - accuracy: 0.6951 - 6s/epoch - 19ms/step\n",
            "0.6951000094413757\n"
          ]
        }
      ]
    },
    {
      "cell_type": "markdown",
      "source": [
        "#DATA AUGMENTATION\n",
        "   generating more images from single image to increase the dataset.\n",
        "   "
      ],
      "metadata": {
        "id": "P58ZcVg_RMk7"
      }
    },
    {
      "cell_type": "code",
      "source": [
        "from keras.preprocessing import image\n",
        "from keras.preprocessing.image import ImageDataGenerator\n",
        "\n",
        "#creates a data generator object that transforms images\n",
        "datagen=ImageDataGenerator(\n",
        "    rotation_range=40,\n",
        "    width_shift_range=0.2,\n",
        "    height_shift_range=0.2,\n",
        "    shear_range=0.2,\n",
        "    zoom_range=0.2,\n",
        "    horizontal_flip=True,\n",
        "    fill_mode='nearest'\n",
        "\n",
        ")\n",
        "#pick an image to transform\n",
        "test_img=train_images[7]\n",
        "img= tf.keras.preprocessing.image.img_to_array(test_img)  # convert image to numpy array\n",
        "img=img.reshape((1,)+img.shape)   # reshape image\n",
        "i=0\n",
        "\n",
        "for batch in datagen.flow(img,save_prefix='test',save_format='jpeg'): # this loops run forever until we break, saving images to currenct directory\n",
        "    plt.figure(i)\n",
        "    plot=plt.imshow(tf.keras.preprocessing.image.img_to_array(batch[0]))\n",
        "    i+=1\n",
        "    if i>4: #show 4 images\n",
        "      break;\n",
        "plt.show()\n",
        "\n"
      ],
      "metadata": {
        "colab": {
          "base_uri": "https://localhost:8080/",
          "height": 1000
        },
        "id": "nLKZ9iVlRVBK",
        "outputId": "30e798a8-48d0-407a-c5c8-04ec19c5b522"
      },
      "execution_count": 17,
      "outputs": [
        {
          "output_type": "display_data",
          "data": {
            "text/plain": [
              "<Figure size 432x288 with 1 Axes>"
            ],
            "image/png": "[encoded data removed]"
          },
          "metadata": {
            "needs_background": "light"
          }
        },
        {
          "output_type": "display_data",
          "data": {
            "text/plain": [
              "<Figure size 432x288 with 1 Axes>"
            ],
            "image/png": "[encoded data removed]"
          },
          "metadata": {
            "needs_background": "light"
          }
        },
        {
          "output_type": "display_data",
          "data": {
            "text/plain": [
              "<Figure size 432x288 with 1 Axes>"
            ],
            "image/png": "[encoded data removed]"
          },
          "metadata": {
            "needs_background": "light"
          }
        },
        {
          "output_type": "display_data",
          "data": {
            "text/plain": [
              "<Figure size 432x288 with 1 Axes>"
            ],
            "image/png": "[encoded data removed]"
          },
          "metadata": {
            "needs_background": "light"
          }
        },
        {
          "output_type": "display_data",
          "data": {
            "text/plain": [
              "<Figure size 432x288 with 1 Axes>"
            ],
            "image/png": "[encoded data removed]"
          },
          "metadata": {
            "needs_background": "light"
          }
        }
      ]
    },
    {
      "cell_type": "markdown",
      "source": [
        "#Using PreTrained Model\n",
        "This will be done in next colab book. get it from githib repository."
      ],
      "metadata": {
        "id": "FCcfwUZXcvHv"
      }
    },
    {
      "cell_type": "code",
      "source": [],
      "metadata": {
        "id": "NNiNN0_Fcxlt"
      },
      "execution_count": null,
      "outputs": []
    }
  ]
}