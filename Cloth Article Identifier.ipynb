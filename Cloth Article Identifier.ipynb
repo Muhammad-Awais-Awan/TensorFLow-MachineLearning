{
  "nbformat": 4,
  "nbformat_minor": 0,
  "metadata": {
    "colab": {
      "provenance": [],
      "authorship_tag": "ABX9TyNfOamhl7cl2/uhzsmU4L7s",
      "include_colab_link": true
    },
    "kernelspec": {
      "name": "python3",
      "display_name": "Python 3"
    },
    "language_info": {
      "name": "python"
    }
  },
  "cells": [
    {
      "cell_type": "markdown",
      "metadata": {
        "id": "view-in-github",
        "colab_type": "text"
      },
      "source": [
        "<a href=\"https://colab.research.google.com/github/Muhammad-Awais-Awan/TensorFLow-MachineLearning/blob/main/Cloth%20Article%20Identifier.ipynb\" target=\"_parent\"><img src=\"https://colab.research.google.com/assets/colab-badge.svg\" alt=\"Open In Colab\"/></a>"
      ]
    },
    {
      "cell_type": "code",
      "execution_count": null,
      "metadata": {
        "id": "MdEblck16y1h"
      },
      "outputs": [],
      "source": [
        "# Tensorflow and tf.keras\n",
        "import tensorflow as tf\n",
        "from tensorflow import keras\n",
        "# Helper Libraries\n",
        "import numpy as np\n",
        "import matplotlib.pyplot as plt\n",
        "\n",
        "\n",
        "\n"
      ]
    },
    {
      "cell_type": "markdown",
      "source": [
        "#Dataset\n",
        "For this tutorial we will use the MINST Fashion Dataset. This is a dataset that is included in keras.\n",
        "This dataset includes 60,000 images for training and 10,000 images for validation/testing."
      ],
      "metadata": {
        "id": "d6lkuMy4tEFq"
      }
    },
    {
      "cell_type": "code",
      "source": [
        "fashion_mnist=keras.datasets.fashion_mnist # load dataset\n",
        "(train_images, train_labels), (test_images, test_labels)=fashion_mnist.load_data() #Split into testing and training"
      ],
      "metadata": {
        "id": "jB9x-Ln_tXnQ",
        "colab": {
          "base_uri": "https://localhost:8080/"
        },
        "outputId": "d6f12dc9-094c-4eef-b438-d2a3c5a37cfe"
      },
      "execution_count": null,
      "outputs": [
        {
          "output_type": "stream",
          "name": "stdout",
          "text": [
            "Downloading data from https://storage.googleapis.com/tensorflow/tf-keras-datasets/train-labels-idx1-ubyte.gz\n",
            "32768/29515 [=================================] - 0s 0us/step\n",
            "40960/29515 [=========================================] - 0s 0us/step\n",
            "Downloading data from https://storage.googleapis.com/tensorflow/tf-keras-datasets/train-images-idx3-ubyte.gz\n",
            "26427392/26421880 [==============================] - 0s 0us/step\n",
            "26435584/26421880 [==============================] - 0s 0us/step\n",
            "Downloading data from https://storage.googleapis.com/tensorflow/tf-keras-datasets/t10k-labels-idx1-ubyte.gz\n",
            "16384/5148 [===============================================================================================] - 0s 0us/step\n",
            "Downloading data from https://storage.googleapis.com/tensorflow/tf-keras-datasets/t10k-images-idx3-ubyte.gz\n",
            "4423680/4422102 [==============================] - 0s 0us/step\n",
            "4431872/4422102 [==============================] - 0s 0us/step\n"
          ]
        }
      ]
    },
    {
      "cell_type": "markdown",
      "source": [
        "Let's have a look at this data to see what we are working with."
      ],
      "metadata": {
        "id": "Hqk6oaROt-w7"
      }
    },
    {
      "cell_type": "code",
      "source": [
        "train_images.shape\n"
      ],
      "metadata": {
        "colab": {
          "base_uri": "https://localhost:8080/"
        },
        "id": "F3u4bGcque9d",
        "outputId": "5da84578-0229-4256-df17-5741e6880dbd"
      },
      "execution_count": null,
      "outputs": [
        {
          "output_type": "execute_result",
          "data": {
            "text/plain": [
              "(60000, 28, 28)"
            ]
          },
          "metadata": {},
          "execution_count": 4
        }
      ]
    },
    {
      "cell_type": "markdown",
      "source": [
        "So we've got 60,000 images that are made up of 28x28 pixels (784 in total)"
      ],
      "metadata": {
        "id": "eVUJCPvPukQV"
      }
    },
    {
      "cell_type": "code",
      "source": [
        "train_images[0,23,23] # lets have a look at one pixel"
      ],
      "metadata": {
        "colab": {
          "base_uri": "https://localhost:8080/"
        },
        "id": "euxoB12FuzOO",
        "outputId": "c81a6e79-23e4-41c6-e6b1-cb5a90342087"
      },
      "execution_count": null,
      "outputs": [
        {
          "output_type": "execute_result",
          "data": {
            "text/plain": [
              "194"
            ]
          },
          "metadata": {},
          "execution_count": 5
        }
      ]
    },
    {
      "cell_type": "markdown",
      "source": [
        "Our pixel value are between 0 and 255, 0 being black and 255 being white. This means we have a grayscale image as there are no color channels."
      ],
      "metadata": {
        "id": "K3pp5LWpz18I"
      }
    },
    {
      "cell_type": "code",
      "source": [
        "train_labels[:10] # let's have a look at the first 10 training labels."
      ],
      "metadata": {
        "colab": {
          "base_uri": "https://localhost:8080/"
        },
        "id": "rMxJZljKztH_",
        "outputId": "2238b939-b3c2-4f0c-9370-39bead3314dd"
      },
      "execution_count": null,
      "outputs": [
        {
          "output_type": "execute_result",
          "data": {
            "text/plain": [
              "array([9, 0, 0, 3, 0, 2, 7, 2, 5, 5], dtype=uint8)"
            ]
          },
          "metadata": {},
          "execution_count": 6
        }
      ]
    },
    {
      "cell_type": "markdown",
      "source": [
        "Our labels are integers ranging from 0-9. Each integer represents a specific article of clothing. We'll create an array of label names to indicate which is which."
      ],
      "metadata": {
        "id": "W4mXMnWb1ObT"
      }
    },
    {
      "cell_type": "code",
      "source": [
        "class_names=[\"T-shirt/top\",'Trouser','Pullover','Dress','Coat',\n",
        "             'Sandal','Shirt','Sneaker','Bag','Ankle boot']"
      ],
      "metadata": {
        "id": "U8tptbbe0d6X"
      },
      "execution_count": null,
      "outputs": []
    },
    {
      "cell_type": "markdown",
      "source": [
        "Finally, lets look at what some of these images look like!"
      ],
      "metadata": {
        "id": "JFf-rfRP0Xkf"
      }
    },
    {
      "cell_type": "code",
      "source": [
        "plt.figure() # make a figure\n",
        "plt.imshow(train_images[1]) # getting the image\n",
        "plt.colorbar() # adding colorbar on the side\n",
        "plt.grid(False) # dont want grid\n",
        "plt.show() #showing the image\n"
      ],
      "metadata": {
        "colab": {
          "base_uri": "https://localhost:8080/",
          "height": 269
        },
        "id": "eVinhNlt1emU",
        "outputId": "742efa04-0e91-4545-e64a-ce0f6b7f5f41"
      },
      "execution_count": null,
      "outputs": [
        {
          "output_type": "display_data",
          "data": {
            "text/plain": [
              "<Figure size 432x288 with 2 Axes>"
            ],
            "image/png": "[encoded data removed]"
          },
          "metadata": {
            "needs_background": "light"
          }
        }
      ]
    },
    {
      "cell_type": "markdown",
      "source": [
        "#Data Preprocessing\n",
        "THe last step before creating our model is to preprocess our data. This simply means applying some prior transformations to our data before feeding it to the model. In this case we will simply scale all of our greyscale pixel values(0-255) to be between 0 and 1. We can do this by dividing each value in the training and testing sets by 255.0. We do this because smaller values will make it easier for the model to process our values."
      ],
      "metadata": {
        "id": "d5wLHVHJ1d5w"
      }
    },
    {
      "cell_type": "code",
      "source": [
        "train_images=train_images/255.0\n",
        "test_images=test_images/255.0\n"
      ],
      "metadata": {
        "id": "HU92dCoreuK8"
      },
      "execution_count": null,
      "outputs": []
    },
    {
      "cell_type": "markdown",
      "source": [
        "#Building the Model\n",
        "\n",
        "Now it's time to build the model! We are going to use keras sequential model with three different layers. This model represents a feed-forward neural network(one that passes values from left to right). We'll break down each layer and it's architecture below."
      ],
      "metadata": {
        "id": "WEuAKz6re5WX"
      }
    },
    {
      "cell_type": "code",
      "source": [
        "model= keras.Sequential([ #Sequential is one of the most simplest form of neural network, in which just information going from left to right,passing through the layers sequentially\n",
        "    #inside here we are defining the no. of neurons for input layers for neural network\n",
        "    keras.layers.Flatten(input_shape=(28,28)), #input layer(1) : (Flatten) allow us to take in a shape of 28 of 28, and flatten all the pixels into 784 pixels. We took the 28x28 matrix and flatten it out.\n",
        "    \n",
        "    #Dense means every neuron of previous layer is connected to every neuron of this layer\n",
        "    #we have 128 neurons in next layer \"not have a answer why there are 128 neurons here\"\n",
        "    keras.layers.Dense(128,activation='relu'), #hidden layer(2) : Activation Function(relu) Rectifier Linear Unit if input +ve it output 1 and if input -ve it output 0.\n",
        "    \n",
        "    #Dense layer with 10 output neurons with activation function of \"softmax\"\n",
        "    # we have 10 neurons because we have total 10 classes to predict different values\n",
        "    keras.layers.Dense(10,activation='softmax') #output layer(3) Activation Function(softmax) will make sure that all of values of our neurons add up to one, and that  they are b/w 0 and 1.\n",
        "])\n"
      ],
      "metadata": {
        "id": "u5iIgD__hABG"
      },
      "execution_count": null,
      "outputs": []
    },
    {
      "cell_type": "markdown",
      "source": [
        "#Compiling the Model(part of model building)\n",
        "The last step in building the model is to define the loss function, optimizer and meterics we would like to track. I won't go into detail about why we choose each of these right now."
      ],
      "metadata": {
        "id": "EQWWk7dklcXg"
      }
    },
    {
      "cell_type": "code",
      "source": [
        "# This step and above step is called \"HYPER PARAMETER TRAINING\". these are all the parameters that we can change.\n",
        "\n",
        "model.compile(optimizer='adam', #adam is algorithm that performs the gradient descent\n",
        "              loss='sparse_categorical_crossentropy',# loss function\n",
        "              metrics=['accuracy'])# the output we want to see"
      ],
      "metadata": {
        "id": "ynDdb4IGlbmC"
      },
      "execution_count": null,
      "outputs": []
    },
    {
      "cell_type": "markdown",
      "source": [
        "#Training the model\n",
        " Now its finaly time to train the model. Since we've already done all the work on our data this step is as easy as calling a single methode.\n",
        "This gives us a accuracy on training data"
      ],
      "metadata": {
        "id": "RbJ6ZlZTolLc"
      }
    },
    {
      "cell_type": "code",
      "source": [
        "model.fit(train_images,train_labels,epochs=10) #we pass the data, labels and epochs and watch the magic"
      ],
      "metadata": {
        "colab": {
          "base_uri": "https://localhost:8080/"
        },
        "id": "JBnK357moPEP",
        "outputId": "60d2f844-47d0-4c9d-a7fd-8379910fd88c"
      },
      "execution_count": null,
      "outputs": [
        {
          "output_type": "stream",
          "name": "stdout",
          "text": [
            "Epoch 1/10\n",
            "1875/1875 [==============================] - 5s 2ms/step - loss: 0.5023 - accuracy: 0.8229\n",
            "Epoch 2/10\n",
            "1875/1875 [==============================] - 5s 3ms/step - loss: 0.3776 - accuracy: 0.8644\n",
            "Epoch 3/10\n",
            "1875/1875 [==============================] - 4s 2ms/step - loss: 0.3363 - accuracy: 0.8773\n",
            "Epoch 4/10\n",
            "1875/1875 [==============================] - 4s 2ms/step - loss: 0.3123 - accuracy: 0.8855\n",
            "Epoch 5/10\n",
            "1875/1875 [==============================] - 4s 2ms/step - loss: 0.2931 - accuracy: 0.8916\n",
            "Epoch 6/10\n",
            "1875/1875 [==============================] - 4s 2ms/step - loss: 0.2792 - accuracy: 0.8974\n",
            "Epoch 7/10\n",
            "1875/1875 [==============================] - 5s 3ms/step - loss: 0.2694 - accuracy: 0.9001\n",
            "Epoch 8/10\n",
            "1875/1875 [==============================] - 4s 2ms/step - loss: 0.2557 - accuracy: 0.9051\n",
            "Epoch 9/10\n",
            "1875/1875 [==============================] - 4s 2ms/step - loss: 0.2467 - accuracy: 0.9088\n",
            "Epoch 10/10\n",
            "1875/1875 [==============================] - 4s 2ms/step - loss: 0.2399 - accuracy: 0.9108\n"
          ]
        },
        {
          "output_type": "execute_result",
          "data": {
            "text/plain": [
              "<keras.callbacks.History at 0x7f2a08d8b190>"
            ]
          },
          "metadata": {},
          "execution_count": 12
        }
      ]
    },
    {
      "cell_type": "markdown",
      "source": [
        "#Evaluating the Model\n",
        "Now it's time to test/evaluate the model. We can do this quite easily using another builtin methode from keras.\n",
        "\n",
        "The verbose argument is defined from the keras documentation as \"verbose:0 or 1. Verbosity mode.0=silent, 1=progress bar.\""
      ],
      "metadata": {
        "id": "v58qu9RDp6xq"
      }
    },
    {
      "cell_type": "code",
      "source": [
        "\n",
        "test_loss, test_acc= model.evaluate(test_images,test_labels,verbose=1)\n",
        "print('Test accuracy:', test_acc)\n"
      ],
      "metadata": {
        "colab": {
          "base_uri": "https://localhost:8080/"
        },
        "id": "-3a2IM1_pu3x",
        "outputId": "614252a7-2f09-4817-8877-6f6827f4272f"
      },
      "execution_count": null,
      "outputs": [
        {
          "output_type": "stream",
          "name": "stdout",
          "text": [
            "313/313 [==============================] - 1s 1ms/step - loss: 0.3283 - accuracy: 0.8846\n",
            "Test accuracy: 0.8845999836921692\n"
          ]
        }
      ]
    },
    {
      "cell_type": "markdown",
      "source": [
        "As our actual accuracy is 91% and but when we evaluate it gives accuracy of 88% so that means our model is overfit.\n",
        "We can make it better by changing hyper parameters.\n",
        "Like in this case if we set epochs=1 then it will be much better\n"
      ],
      "metadata": {
        "id": "d5QaWzkMjALp"
      }
    },
    {
      "cell_type": "code",
      "source": [
        "predictions=model.predict(test_images)\n",
        "print (np.argmax(predictions[191]))\n",
        "print (class_names[np.argmax(predictions[191])])\n",
        "plt.figure() # make a figure\n",
        "plt.imshow(test_images[191]) # getting the image\n",
        "plt.colorbar() # adding colorbar on the side\n",
        "plt.grid(False) # dont want grid\n",
        "plt.show() #showing the image"
      ],
      "metadata": {
        "colab": {
          "base_uri": "https://localhost:8080/",
          "height": 304
        },
        "id": "eeL43ZiHjmGQ",
        "outputId": "44c73c43-38be-41c7-e811-3f746f221dca"
      },
      "execution_count": null,
      "outputs": [
        {
          "output_type": "stream",
          "name": "stdout",
          "text": [
            "2\n",
            "Pullover\n"
          ]
        },
        {
          "output_type": "display_data",
          "data": {
            "text/plain": [
              "<Figure size 432x288 with 2 Axes>"
            ],
            "image/png": "[encoded data removed]"
          },
          "metadata": {
            "needs_background": "light"
          }
        }
      ]
    },
    {
      "cell_type": "code",
      "source": [
        "from tensorflow.python.framework.tensor_conversion_registry import get\n",
        "COLOR='white'\n",
        "plt.rcParams['text.color']=COLOR\n",
        "plt.rcParams['axes.labelcolor']=COLOR\n",
        "def predict(model,image,correct_label):\n",
        "  class_names=[\"T-shirt/top\",'Trouser','Pullover','Dress','Coat',\n",
        "             'Sandal','Shirt','Sneaker','Bag','Ankle boot']\n",
        "  predictions=model.predict(np.array([image]))\n",
        "  predicted_class=class_names[np.argmax(predictions)]\n",
        "  show_image(image,class_names[correct_label],predicted_class)\n",
        "def show_image(img,label,guess):\n",
        "  plt.figure() # make a figure\n",
        "  plt.imshow(img,cmap=plt.cm.binary) # getting the image\n",
        "  plt.title(\"Expected: \"+ label)\n",
        "  print(\"Expected: \"+ label)\n",
        "  plt.xlabel(\"Guess: \"+guess)\n",
        "  print(\"Guess: \"+guess)\n",
        "  plt.colorbar() # adding colorbar on the side\n",
        "  plt.grid(False) # dont want grid\n",
        "  plt.show() #showing the image\n",
        "\n",
        "def get_number():\n",
        "  while True:\n",
        "    num=input(\"Pick a number: \")\n",
        "    if num.isdigit():\n",
        "      num=int(num)\n",
        "      if 0<=num <= 1000:\n",
        "        return int(num)\n",
        "    else:\n",
        "      print(\"Try Again...\")\n",
        "num=get_number()\n",
        "image=test_images[num]\n",
        "label=test_labels[num]\n",
        "predict(model,image,label)          \n"
      ],
      "metadata": {
        "colab": {
          "base_uri": "https://localhost:8080/",
          "height": 347
        },
        "id": "isSJkzFkk0eg",
        "outputId": "ca77f541-6458-4c9a-f36a-19ef9a711151"
      },
      "execution_count": null,
      "outputs": [
        {
          "output_type": "stream",
          "name": "stdout",
          "text": [
            "Pick a number: 45\n",
            "Expected: Sneaker\n",
            "Guess: Sneaker\n"
          ]
        },
        {
          "output_type": "display_data",
          "data": {
            "text/plain": [
              "<Figure size 432x288 with 2 Axes>"
            ],
            "image/png": "[encoded data removed]"
          },
          "metadata": {
            "needs_background": "light"
          }
        }
      ]
    },
    {
      "cell_type": "code",
      "source": [],
      "metadata": {
        "id": "GnWWz-_ZnVAe"
      },
      "execution_count": null,
      "outputs": []
    }
  ]
}