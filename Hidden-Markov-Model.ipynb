{
  "nbformat": 4,
  "nbformat_minor": 0,
  "metadata": {
    "colab": {
      "provenance": [],
      "authorship_tag": "ABX9TyNAuqQy8BfYAsoz+FVCr5vx",
      "include_colab_link": true
    },
    "kernelspec": {
      "name": "python3",
      "display_name": "Python 3"
    },
    "language_info": {
      "name": "python"
    }
  },
  "cells": [
    {
      "cell_type": "markdown",
      "metadata": {
        "id": "view-in-github",
        "colab_type": "text"
      },
      "source": [
        "<a href=\"https://colab.research.google.com/github/Muhammad-Awais-Awan/TensorFLow-MachineLearning/blob/main/Hidden-Markov-Model.ipynb\" target=\"_parent\"><img src=\"https://colab.research.google.com/assets/colab-badge.svg\" alt=\"Open In Colab\"/></a>"
      ]
    },
    {
      "cell_type": "code",
      "execution_count": null,
      "metadata": {
        "id": "odfmq5pole2Z"
      },
      "outputs": [],
      "source": []
    },
    {
      "cell_type": "markdown",
      "source": [
        "Basic Algorithm for K-Means:\n",
        "\n",
        "\n",
        "1.   Randomly pick K points to place K centroids\n",
        "2.   Assign all of the data points to the centeroids by distance. The closest centeroid to a point is the one it is assigned to.\n",
        "3. Average all of the points belonging to each centroid to find the middle of those clusters(center of mass). Place the corresponding centroids into that position.\n",
        "4. Reassign every point once again to the closest centroid.\n",
        "5. Repeat steps 3-4 untill no point changes which centroid it belongs to.\n",
        "\n"
      ],
      "metadata": {
        "id": "IGu-WC8BlwbQ"
      }
    },
    {
      "cell_type": "code",
      "source": [],
      "metadata": {
        "id": "u-SMnL-zmkQt"
      },
      "execution_count": null,
      "outputs": []
    },
    {
      "cell_type": "markdown",
      "source": [
        "**HIDDEN MARKOV MODELS:**\n",
        "\n",
        "\"The hidden markov model is a finite set of states, each of which is associated with a(generally multidimensional) probability distribution[]. Transitions among the states are governed by a set of probabilities called transition probabilities\"\n",
        "\n",
        "To create Hidden Markov Model we need.\n",
        "*   States\n",
        "*   Observation Distribution\n",
        "*   Transition Distribution\n",
        "\n",
        "**States:** \"In each Markov Model we have a finite set of states. These states could be something like \"warm\" and \"cold\" or \"high\" and \"low\". These states are \"hidden\" within the model, which means we do not directly observe them.\"\n",
        "\n",
        "**Observations:** \"Each state has a particular outcome or observation associated with it based on a probability distribution. An example of this is the following. On a hot day Tim has a 80% chance of being happy and 20% chance of being sad.\"\n",
        "\n",
        "**Transitions:** \"Each state will have a probability defining the likelyhood of transitioning to a different state. An example is the following: a cold day has a 30% chances of being followed by a hot day and 70% chance of being followed by another cold day."
      ],
      "metadata": {
        "id": "X0ZI5P18qlS2"
      }
    },
    {
      "cell_type": "code",
      "source": [
        "import tensorflow_probability as tfp # we are using a different module from tensorflow this time\n",
        "import tensorflow as tf"
      ],
      "metadata": {
        "id": "g7PHnkrsq6Vx"
      },
      "execution_count": 1,
      "outputs": []
    },
    {
      "cell_type": "markdown",
      "source": [
        "1. Represent a cold day with 0 and a hot day with 1.\n",
        "2. Suppose the first day of a sequence has a 0.8 chance of being cold.\n",
        "3. Suppose a cold day has a 30% chance of being followed by a hot day\n",
        "4. and a hot day has a 20% chance of being followed by a cold day.\n",
        "5. On each day the temperature is normally distributed with mean and standard deviation 0 and 5 on a cold day and mean and standard deviation 15 and 10 on a hot day.\n",
        "\n",
        " We can model this using the categorical distribution:"
      ],
      "metadata": {
        "id": "9SzyEEDuwqFB"
      }
    },
    {
      "cell_type": "code",
      "source": [
        "tfd=tfp.distributions #making a shortcut for later on\n",
        "initial_distribution=tfd.Categorical(probs=[0.5,0.5]) #Refer to point 2 above\n",
        "transition_distribution=tfd.Categorical(probs=[[0.7,0.3], \n",
        "                                            [0.2,0.8]])#Refer to point 3 and 4 above\n",
        "observation_distribution=tfd.Normal(loc=[0.,15.],scale=[5.,10.])#These are float values\n",
        " #the loc argument represents the mean and the scale is the standard deviation"
      ],
      "metadata": {
        "id": "Sgjnwq-LxYPr"
      },
      "execution_count": 7,
      "outputs": []
    },
    {
      "cell_type": "code",
      "source": [
        "model = tfd.HiddenMarkovModel(\n",
        "    initial_distribution=initial_distribution,\n",
        "    transition_distribution=transition_distribution,\n",
        "    observation_distribution=observation_distribution,\n",
        "    num_steps=7 # Steps are how many day we want to predict for. It is also how many time we will predict the value\n",
        ")"
      ],
      "metadata": {
        "id": "AHtr85vJzlcD"
      },
      "execution_count": 8,
      "outputs": []
    },
    {
      "cell_type": "markdown",
      "source": [
        "To get  the expected temperature on each day we can do following"
      ],
      "metadata": {
        "id": "5oIy7GI43WwR"
      }
    },
    {
      "cell_type": "code",
      "source": [
        "mean= model.mean()\n",
        "# due to the way tensorflow works on a lower level we need to evaluate part of the graph\n",
        "#from within a session to see the value of this tensor\n",
        "\n",
        "# \n",
        "with tf.compat.v1.Session() as sess:\n",
        "  print(mean.numpy()) # this is giving expected temperatures on each day\n",
        "  "
      ],
      "metadata": {
        "colab": {
          "base_uri": "https://localhost:8080/"
        },
        "id": "j_b1oAZv0Q7r",
        "outputId": "9f87584f-d664-4862-de05-01011fd1ca06"
      },
      "execution_count": 9,
      "outputs": [
        {
          "output_type": "stream",
          "name": "stdout",
          "text": [
            "[7.5       8.25      8.625     8.812501  8.90625   8.953125  8.9765625]\n"
          ]
        }
      ]
    }
  ]
}